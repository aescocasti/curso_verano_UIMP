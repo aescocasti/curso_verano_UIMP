{
 "cells": [
  {
   "cell_type": "markdown",
   "metadata": {},
   "source": [
    "# Preparación técnica de los talleres del curso"
   ]
  },
  {
   "cell_type": "markdown",
   "metadata": {},
   "source": [
    "Los objetivos de esta sesión son:\n",
    "- presentar herramientas y conceptos necesarios para comprender los contenidos y herramientas del curso\n",
    "- asegurarse de que todo funcione adecuadamente antes de las sesiones prácticas"
   ]
  },
  {
   "cell_type": "markdown",
   "metadata": {},
   "source": [
    "# Jupyter notebook y Binder\n",
    "\n",
    "Para visualizar y ejecutar parte del contenido de este curso, utilizaremos _Jupyter Notebook_ y _Binder_. Pero, ¿qué son exactamente estas herramientas?"
   ]
  },
  {
   "cell_type": "markdown",
   "metadata": {},
   "source": [
    "<img src=\"data:image/png;base64,iVBORw0KGgoAAAANSUhEUgAAADAAAAA4CAMAAACMj4vYAAAAk1BMVEX////zdyaenp7yagDzdiN2dnfybQCvr69paWnQ0NCbm5vzchbk5OT5+fn0hET//Pv+9vNYWFg9PT28vLzJycmVlZXu7u7zfDP97+n4tZaIiIgtLS1FRUXc3NykpKT5wKf3qoX72sz3r4385dt+fn70jFQhISH71MRgYWFPUFD2mWr6zbr6yLL1lGH2oXcODg4YGBi1/Il7AAACm0lEQVRIibVW63qiMBAdiECQgCIhKAgiYqVq3b7/0+0EEKOoha+75weXZE7mQnIGgGEQYqBhA2ZQGo6wd6lhGHQ6nMAlwaDuPyMsD5siz1fn7bwdEDWhS0IY6/Jmvb04xHRqmCQqdvWgTSktOwelX/nXhDaa6Uy0DhOHeAc57trpbU2/qqrGxUEzFeuWY3q7h5CnfvUZ4H12JD3zmkKKB4YVS/ul5txsanSv5n7WL82uiWbimCYxI2+/9yIis69HnajHWEr7iUm84rTrJue7cx4RyekxZhiAQ75O88eFcKmNRxzN2d+PfmHVV8u+dRvuheC0OnImJH+Sl+LmSIhS3Rnp1bqHrePdXorjT+Zy1ehwfZznA+wRly7AYfYwe1LD30PdpYPgB08WsQACuVAmgAWQya3IpV1qgeXHFgoMD3W8skDE8hRZFUCFJPeDAfd9K1iEYP/BiTIE6zO2GMRGGixcPNqfYU2gAFQSEgZ2gq7YtwB5Qr5ZExJbS/cZ2B+Nmt0RFnJkzaVb7rc5YFxxTEvgC3hNcL9FGbQE3bARKfD1jSA1hNUhYZACQ4IyS65VClpDlRAkAacL6YGmqR/LEiXyCiVNXfCNFCt0C6mqL6UbCrDXqLtWPYw1Q4iyQnfTqooFpK2UxbHyTRbXJ9148SlF9qFIv500dzdMXjUEFqozrJVAQd81kNHbe/QBGn1EUQSiH0XgYCoiUMvM2/O3/LqTmUbIihFCBjNtpFS2YowNJz/tOhaK8eUqxn23itw7UeR5UeS8k/u7hjLpNZTnub1sWavn9oOboorzi7bbgx3wdntuc63f2B8hpoiQd+kfNquiUH4desimOiJkb2K9AwulvT61hhLS2oGuZ//Nw+gcHqs0BCnnA/8z/wL4eTEg16OCiQAAAABJRU5ErkJggg==\" alt=\"Sample Image\" width=\"50\"/>\n",
    "\n",
    "- es un \"cuaderno\" digital que permite tomar apuntes y ejecutar código sin necesidad de instalar ningún software en el ordenador.\n",
    "De este modo, evitamos los problemas relacionados con cada sistema operativo y sus particularidades en el proceso de instalación de programas. Se utiliza directamente en un navegador web\n",
    "\n",
    "- además de ejecutar código, un notebook permite incluir imágenes, audios, gráficos, etc. \n",
    "\n",
    "- archivos de extensión ```.ipynb```\n",
    "\n",
    "- Dos tipos de celdas: de texto (markdown) y código\n"
   ]
  },
  {
   "cell_type": "code",
   "execution_count": null,
   "metadata": {
    "vscode": {
     "languageId": "plaintext"
    }
   },
   "outputs": [],
   "source": [
    "# Celda de código\n",
    "5+7"
   ]
  },
  {
   "cell_type": "markdown",
   "metadata": {},
   "source": [
    "Esta es una celda de texto"
   ]
  },
  {
   "cell_type": "markdown",
   "metadata": {},
   "source": [
    "<img src=\"https://mybinder.org/static/logo.svg?v=fe52c40adc69454ba7536393f76ebd715e5fb75f5feafe16a27c47483eabf3311c14ed9fda905c49915d6dbf369ae68fb855a40dd05489a7b9542a9ee532e92b\" alt=\"Sample Image\" width=\"150\"/>\n",
    "\n",
    "- Binder permite ejecutar notebooks en la nube: Puedes abrir y ejecutar notebooks Jupyter directamente desde tu navegador web\n",
    "\n",
    "- En Binder se pueden enlazar los repositorios alojados en Github\n",
    "\n",
    "Para emplear Binder, anda a la página: https://mybinder.org/\n",
    "\n",
    "En el cuadro de texto pega el url del depósito del curso: https://github.com/aescocasti/curso_verano_UIMP y haz clic en _launch_"
   ]
  },
  {
   "cell_type": "markdown",
   "metadata": {},
   "source": [
    "<img src=\"https://escriptor.dcsr.unil.ch/static/images/escriptorium_hd.png\" alt=\"Sample Image\" width=\"50\"/> **_eScriptorium_**\n",
    "\n",
    "- ir al url del servidor: https://escriptor.dcsr.unil.ch/\n",
    "\n",
    "- usuario: user: uimp_user clave: UIMP2024 \n",
    "\n",
    "- constraseña: topsecret"
   ]
  },
  {
   "cell_type": "markdown",
   "metadata": {},
   "source": [
    "<img src=\"https://s3.eu-central-1.amazonaws.com/readcoop.cis.public-assets.prod/logo.svg\" alt=\"Sample Image\" width=\"100\"/> \n",
    "\n",
    "- ir a la página de Transkribus: https://www.transkribus.org/\n",
    "- crear una cuenta"
   ]
  }
 ],
 "metadata": {
  "language_info": {
   "name": "python"
  }
 },
 "nbformat": 4,
 "nbformat_minor": 2
}

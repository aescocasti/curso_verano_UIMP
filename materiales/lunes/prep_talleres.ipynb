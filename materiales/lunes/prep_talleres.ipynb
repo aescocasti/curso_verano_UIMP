{
 "cells": [
  {
   "cell_type": "markdown",
   "metadata": {},
   "source": [
    "# Preparación técnica de los talleres del curso"
   ]
  },
  {
   "cell_type": "markdown",
   "metadata": {},
   "source": [
    "Los objetivos de esta sesión son:\n",
    "- presentar herramientas y conceptos necesarios para comprender los contenidos y herramientas del curso\n",
    "- asegurarse de que todo funcione adecuadamente antes de las sesiones prácticas"
   ]
  },
  {
   "cell_type": "markdown",
   "metadata": {},
   "source": [
    "<img src=\"https://escriptor.dcsr.unil.ch/static/images/escriptorium_hd.png\" alt=\"Sample Image\" width=\"100\"/> **_eScriptorium_**"
   ]
  }
 ],
 "metadata": {
  "language_info": {
   "name": "python"
  }
 },
 "nbformat": 4,
 "nbformat_minor": 2
}

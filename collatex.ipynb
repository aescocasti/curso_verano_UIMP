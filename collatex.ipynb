{
  "cells": [
    {
      "cell_type": "markdown",
      "metadata": {
        "id": "dLGgjC8BLVTx"
      },
      "source": [
        "# Colación "
      ]
    },
    {
      "cell_type": "markdown",
      "metadata": {
        "id": "2CDvZNuqLikU"
      },
      "source": [
        "### Creación del entorno virtual de desarrollo\n",
        "(to be applied outside Jupyter noteebook. In Jupyter ```pip3 install collatex Levenshtein notebook``` should be enough)\n"
      ]
    },
    {
      "cell_type": "code",
      "execution_count": null,
      "metadata": {
        "colab": {
          "base_uri": "https://localhost:8080/"
        },
        "id": "ojMU6kD_LQdO",
        "outputId": "8c634ae3-b6ef-4d55-c309-df28ec7f4faa"
      },
      "outputs": [
        {
          "name": "stdout",
          "output_type": "stream",
          "text": [
            "The virtual environment was not created successfully because ensurepip is not\n",
            "available.  On Debian/Ubuntu systems, you need to install the python3-venv\n",
            "package using the following command.\n",
            "\n",
            "    apt install python3.10-venv\n",
            "\n",
            "You may need to use sudo with that command.  After installing the python3-venv\n",
            "package, recreate your virtual environment.\n",
            "\n",
            "Failing command: /content/collatex-venv/bin/python3\n",
            "\n",
            "/bin/bash: line 1: collatex-venv/bin/activate: No such file or directory\n",
            "Collecting collatex\n",
            "  Downloading collatex-2.3.tar.gz (92 kB)\n",
            "\u001b[2K     \u001b[90m━━━━━━━━━━━━━━━━━━━━━━━━━━━━━━━━━━━━━━━━\u001b[0m \u001b[32m92.3/92.3 kB\u001b[0m \u001b[31m1.2 MB/s\u001b[0m eta \u001b[36m0:00:00\u001b[0m\n",
            "\u001b[?25h  Preparing metadata (setup.py) ... \u001b[?25l\u001b[?25hdone\n",
            "Collecting Levenshtein\n",
            "  Downloading Levenshtein-0.25.0-cp310-cp310-manylinux_2_17_x86_64.manylinux2014_x86_64.whl (177 kB)\n",
            "\u001b[2K     \u001b[90m━━━━━━━━━━━━━━━━━━━━━━━━━━━━━━━━━━━━━━━━\u001b[0m \u001b[32m177.4/177.4 kB\u001b[0m \u001b[31m3.3 MB/s\u001b[0m eta \u001b[36m0:00:00\u001b[0m\n",
            "\u001b[?25hRequirement already satisfied: notebook in /usr/local/lib/python3.10/dist-packages (6.5.5)\n",
            "Requirement already satisfied: networkx in /usr/local/lib/python3.10/dist-packages (from collatex) (3.2.1)\n",
            "Requirement already satisfied: prettytable in /usr/local/lib/python3.10/dist-packages (from collatex) (3.10.0)\n",
            "Collecting rapidfuzz<4.0.0,>=3.1.0 (from Levenshtein)\n",
            "  Downloading rapidfuzz-3.6.2-cp310-cp310-manylinux_2_17_x86_64.manylinux2014_x86_64.whl (3.4 MB)\n",
            "\u001b[2K     \u001b[90m━━━━━━━━━━━━━━━━━━━━━━━━━━━━━━━━━━━━━━━━\u001b[0m \u001b[32m3.4/3.4 MB\u001b[0m \u001b[31m5.8 MB/s\u001b[0m eta \u001b[36m0:00:00\u001b[0m\n",
            "\u001b[?25hRequirement already satisfied: jinja2 in /usr/local/lib/python3.10/dist-packages (from notebook) (3.1.3)\n",
            "Requirement already satisfied: tornado>=6.1 in /usr/local/lib/python3.10/dist-packages (from notebook) (6.3.3)\n",
            "Requirement already satisfied: pyzmq<25,>=17 in /usr/local/lib/python3.10/dist-packages (from notebook) (23.2.1)\n",
            "Requirement already satisfied: argon2-cffi in /usr/local/lib/python3.10/dist-packages (from notebook) (23.1.0)\n",
            "Requirement already satisfied: traitlets>=4.2.1 in /usr/local/lib/python3.10/dist-packages (from notebook) (5.7.1)\n",
            "Requirement already satisfied: jupyter-core>=4.6.1 in /usr/local/lib/python3.10/dist-packages (from notebook) (5.7.2)\n",
            "Requirement already satisfied: jupyter-client<8,>=5.3.4 in /usr/local/lib/python3.10/dist-packages (from notebook) (6.1.12)\n",
            "Requirement already satisfied: ipython-genutils in /usr/local/lib/python3.10/dist-packages (from notebook) (0.2.0)\n",
            "Requirement already satisfied: nbformat in /usr/local/lib/python3.10/dist-packages (from notebook) (5.10.2)\n",
            "Requirement already satisfied: nbconvert>=5 in /usr/local/lib/python3.10/dist-packages (from notebook) (6.5.4)\n",
            "Requirement already satisfied: nest-asyncio>=1.5 in /usr/local/lib/python3.10/dist-packages (from notebook) (1.6.0)\n",
            "Requirement already satisfied: ipykernel in /usr/local/lib/python3.10/dist-packages (from notebook) (5.5.6)\n",
            "Requirement already satisfied: Send2Trash>=1.8.0 in /usr/local/lib/python3.10/dist-packages (from notebook) (1.8.2)\n",
            "Requirement already satisfied: terminado>=0.8.3 in /usr/local/lib/python3.10/dist-packages (from notebook) (0.18.1)\n",
            "Requirement already satisfied: prometheus-client in /usr/local/lib/python3.10/dist-packages (from notebook) (0.20.0)\n",
            "Requirement already satisfied: nbclassic>=0.4.7 in /usr/local/lib/python3.10/dist-packages (from notebook) (1.0.0)\n",
            "Requirement already satisfied: python-dateutil>=2.1 in /usr/local/lib/python3.10/dist-packages (from jupyter-client<8,>=5.3.4->notebook) (2.8.2)\n",
            "Requirement already satisfied: platformdirs>=2.5 in /usr/local/lib/python3.10/dist-packages (from jupyter-core>=4.6.1->notebook) (4.2.0)\n",
            "Requirement already satisfied: jupyter-server>=1.8 in /usr/local/lib/python3.10/dist-packages (from nbclassic>=0.4.7->notebook) (1.24.0)\n",
            "Requirement already satisfied: notebook-shim>=0.2.3 in /usr/local/lib/python3.10/dist-packages (from nbclassic>=0.4.7->notebook) (0.2.4)\n",
            "Requirement already satisfied: lxml in /usr/local/lib/python3.10/dist-packages (from nbconvert>=5->notebook) (4.9.4)\n",
            "Requirement already satisfied: beautifulsoup4 in /usr/local/lib/python3.10/dist-packages (from nbconvert>=5->notebook) (4.12.3)\n",
            "Requirement already satisfied: bleach in /usr/local/lib/python3.10/dist-packages (from nbconvert>=5->notebook) (6.1.0)\n",
            "Requirement already satisfied: defusedxml in /usr/local/lib/python3.10/dist-packages (from nbconvert>=5->notebook) (0.7.1)\n",
            "Requirement already satisfied: entrypoints>=0.2.2 in /usr/local/lib/python3.10/dist-packages (from nbconvert>=5->notebook) (0.4)\n",
            "Requirement already satisfied: jupyterlab-pygments in /usr/local/lib/python3.10/dist-packages (from nbconvert>=5->notebook) (0.3.0)\n",
            "Requirement already satisfied: MarkupSafe>=2.0 in /usr/local/lib/python3.10/dist-packages (from nbconvert>=5->notebook) (2.1.5)\n",
            "Requirement already satisfied: mistune<2,>=0.8.1 in /usr/local/lib/python3.10/dist-packages (from nbconvert>=5->notebook) (0.8.4)\n",
            "Requirement already satisfied: nbclient>=0.5.0 in /usr/local/lib/python3.10/dist-packages (from nbconvert>=5->notebook) (0.10.0)\n",
            "Requirement already satisfied: packaging in /usr/local/lib/python3.10/dist-packages (from nbconvert>=5->notebook) (24.0)\n",
            "Requirement already satisfied: pandocfilters>=1.4.1 in /usr/local/lib/python3.10/dist-packages (from nbconvert>=5->notebook) (1.5.1)\n",
            "Requirement already satisfied: pygments>=2.4.1 in /usr/local/lib/python3.10/dist-packages (from nbconvert>=5->notebook) (2.16.1)\n",
            "Requirement already satisfied: tinycss2 in /usr/local/lib/python3.10/dist-packages (from nbconvert>=5->notebook) (1.2.1)\n",
            "Requirement already satisfied: fastjsonschema in /usr/local/lib/python3.10/dist-packages (from nbformat->notebook) (2.19.1)\n",
            "Requirement already satisfied: jsonschema>=2.6 in /usr/local/lib/python3.10/dist-packages (from nbformat->notebook) (4.19.2)\n",
            "Requirement already satisfied: ptyprocess in /usr/local/lib/python3.10/dist-packages (from terminado>=0.8.3->notebook) (0.7.0)\n",
            "Requirement already satisfied: argon2-cffi-bindings in /usr/local/lib/python3.10/dist-packages (from argon2-cffi->notebook) (21.2.0)\n",
            "Requirement already satisfied: ipython>=5.0.0 in /usr/local/lib/python3.10/dist-packages (from ipykernel->notebook) (7.34.0)\n",
            "Requirement already satisfied: wcwidth in /usr/local/lib/python3.10/dist-packages (from prettytable->collatex) (0.2.13)\n",
            "Requirement already satisfied: setuptools>=18.5 in /usr/local/lib/python3.10/dist-packages (from ipython>=5.0.0->ipykernel->notebook) (67.7.2)\n",
            "Collecting jedi>=0.16 (from ipython>=5.0.0->ipykernel->notebook)\n",
            "  Downloading jedi-0.19.1-py2.py3-none-any.whl (1.6 MB)\n",
            "\u001b[2K     \u001b[90m━━━━━━━━━━━━━━━━━━━━━━━━━━━━━━━━━━━━━━━━\u001b[0m \u001b[32m1.6/1.6 MB\u001b[0m \u001b[31m4.9 MB/s\u001b[0m eta \u001b[36m0:00:00\u001b[0m\n",
            "\u001b[?25hRequirement already satisfied: decorator in /usr/local/lib/python3.10/dist-packages (from ipython>=5.0.0->ipykernel->notebook) (4.4.2)\n",
            "Requirement already satisfied: pickleshare in /usr/local/lib/python3.10/dist-packages (from ipython>=5.0.0->ipykernel->notebook) (0.7.5)\n",
            "Requirement already satisfied: prompt-toolkit!=3.0.0,!=3.0.1,<3.1.0,>=2.0.0 in /usr/local/lib/python3.10/dist-packages (from ipython>=5.0.0->ipykernel->notebook) (3.0.43)\n",
            "Requirement already satisfied: backcall in /usr/local/lib/python3.10/dist-packages (from ipython>=5.0.0->ipykernel->notebook) (0.2.0)\n",
            "Requirement already satisfied: matplotlib-inline in /usr/local/lib/python3.10/dist-packages (from ipython>=5.0.0->ipykernel->notebook) (0.1.6)\n",
            "Requirement already satisfied: pexpect>4.3 in /usr/local/lib/python3.10/dist-packages (from ipython>=5.0.0->ipykernel->notebook) (4.9.0)\n",
            "Requirement already satisfied: attrs>=22.2.0 in /usr/local/lib/python3.10/dist-packages (from jsonschema>=2.6->nbformat->notebook) (23.2.0)\n",
            "Requirement already satisfied: jsonschema-specifications>=2023.03.6 in /usr/local/lib/python3.10/dist-packages (from jsonschema>=2.6->nbformat->notebook) (2023.12.1)\n",
            "Requirement already satisfied: referencing>=0.28.4 in /usr/local/lib/python3.10/dist-packages (from jsonschema>=2.6->nbformat->notebook) (0.33.0)\n",
            "Requirement already satisfied: rpds-py>=0.7.1 in /usr/local/lib/python3.10/dist-packages (from jsonschema>=2.6->nbformat->notebook) (0.18.0)\n",
            "Requirement already satisfied: anyio<4,>=3.1.0 in /usr/local/lib/python3.10/dist-packages (from jupyter-server>=1.8->nbclassic>=0.4.7->notebook) (3.7.1)\n",
            "Requirement already satisfied: websocket-client in /usr/local/lib/python3.10/dist-packages (from jupyter-server>=1.8->nbclassic>=0.4.7->notebook) (1.7.0)\n",
            "Requirement already satisfied: six>=1.5 in /usr/local/lib/python3.10/dist-packages (from python-dateutil>=2.1->jupyter-client<8,>=5.3.4->notebook) (1.16.0)\n",
            "Requirement already satisfied: cffi>=1.0.1 in /usr/local/lib/python3.10/dist-packages (from argon2-cffi-bindings->argon2-cffi->notebook) (1.16.0)\n",
            "Requirement already satisfied: soupsieve>1.2 in /usr/local/lib/python3.10/dist-packages (from beautifulsoup4->nbconvert>=5->notebook) (2.5)\n",
            "Requirement already satisfied: webencodings in /usr/local/lib/python3.10/dist-packages (from bleach->nbconvert>=5->notebook) (0.5.1)\n",
            "Requirement already satisfied: idna>=2.8 in /usr/local/lib/python3.10/dist-packages (from anyio<4,>=3.1.0->jupyter-server>=1.8->nbclassic>=0.4.7->notebook) (3.6)\n",
            "Requirement already satisfied: sniffio>=1.1 in /usr/local/lib/python3.10/dist-packages (from anyio<4,>=3.1.0->jupyter-server>=1.8->nbclassic>=0.4.7->notebook) (1.3.1)\n",
            "Requirement already satisfied: exceptiongroup in /usr/local/lib/python3.10/dist-packages (from anyio<4,>=3.1.0->jupyter-server>=1.8->nbclassic>=0.4.7->notebook) (1.2.0)\n",
            "Requirement already satisfied: pycparser in /usr/local/lib/python3.10/dist-packages (from cffi>=1.0.1->argon2-cffi-bindings->argon2-cffi->notebook) (2.21)\n",
            "Requirement already satisfied: parso<0.9.0,>=0.8.3 in /usr/local/lib/python3.10/dist-packages (from jedi>=0.16->ipython>=5.0.0->ipykernel->notebook) (0.8.3)\n",
            "Building wheels for collected packages: collatex\n",
            "  Building wheel for collatex (setup.py) ... \u001b[?25l\u001b[?25hdone\n",
            "  Created wheel for collatex: filename=collatex-2.3-py2.py3-none-any.whl size=70000 sha256=e195e1563694fa4e8b47b0333f773b14a10ab650b11111241410d407b46c5d3b\n",
            "  Stored in directory: /root/.cache/pip/wheels/90/e1/c8/ec5f5a3da4237bd5755d435017dd1d32304191018d1b6f9946\n",
            "Successfully built collatex\n",
            "Installing collected packages: rapidfuzz, jedi, Levenshtein, collatex\n",
            "Successfully installed Levenshtein-0.25.0 collatex-2.3 jedi-0.19.1 rapidfuzz-3.6.2\n"
          ]
        }
      ],
      "source": [
        "!python3 -m venv collatex-venv\n",
        "\n",
        "!source collatex-venv/bin/activate\n",
        "\n",
        "!pip3 install collatex Levenshtein notebook"
      ]
    },
    {
      "cell_type": "code",
      "execution_count": null,
      "metadata": {
        "id": "9zY09J3Y7zsB"
      },
      "outputs": [],
      "source": [
        "#!pip3 install collatex Levenshtein notebook"
      ]
    },
    {
      "cell_type": "markdown",
      "metadata": {
        "id": "kjNq6sRULmGc"
      },
      "source": [
        "# Link to download .txt files:\n",
        "Dossier: https://github.com/aescocasti/curso_verano_UIMP/tree/39c7639d07dfc710c8ed48bf4345cab67ccf9e4b/materiales/mi%C3%A9rcoles/transcripciones\n",
        "\n",
        "\n",
        "# Upload txt files to *input_files* ↓\n"
      ]
    },
    {
      "cell_type": "code",
      "execution_count": null,
      "metadata": {
        "id": "II9akW52LtPs"
      },
      "outputs": [],
      "source": [
        "# Creates directory for input files (.txt format without ponctuation or breaklines)\n",
        "!mkdir input_files"
      ]
    },
    {
      "cell_type": "code",
      "execution_count": null,
      "metadata": {
        "id": "csQ2PrH1Lvvb"
      },
      "outputs": [],
      "source": [
        "# Creates directory for output files\n",
        "!mkdir output_files"
      ]
    },
    {
      "cell_type": "code",
      "execution_count": null,
      "metadata": {
        "id": "CqdGnzMmL1GC"
      },
      "outputs": [],
      "source": [
        "# Import libraries\n",
        "from collatex import *\n",
        "import json\n",
        "import os"
      ]
    },
    {
      "cell_type": "markdown",
      "metadata": {
        "id": "DCWTiro39uKM"
      },
      "source": [
        "## Execute next block if files contain punctuation and line breaks"
      ]
    },
    {
      "cell_type": "code",
      "execution_count": null,
      "metadata": {
        "colab": {
          "base_uri": "https://localhost:8080/"
        },
        "id": "twy12U6L9v5t",
        "outputId": "2c4bf4cd-a667-4f2d-daeb-a668e125152e"
      },
      "outputs": [],
      "source": [
        "import string\n",
        "import re\n",
        "\n",
        "# Input files to be processed\n",
        "directory_path = 'input_files'\n",
        "\n",
        "# Preprocess txt files\n",
        "for filename in os.listdir(directory_path):\n",
        "    if filename.endswith(\".txt\"):\n",
        "        file_path = os.path.join(directory_path, filename)\n",
        "\n",
        "        with open(file_path, 'r', encoding='utf-8') as file:\n",
        "            content = file.read()\n",
        "\n",
        "        # Remove punctuation, replace newline characters with spaces, and replace upper with lowercase (does not support hyphenation, as there was none. If there is, it should be removed)\n",
        "        content = re.sub(r'\\s{2,}', ' ', content.replace('\\n', ' ').translate(str.maketrans('', '', string.punctuation)).lower())\n",
        "\n",
        "        # Save the changes on the same file\n",
        "        with open(file_path, 'w', encoding='utf-8') as file:\n",
        "            file.write(content)\n",
        "\n",
        "        print(f\"Processed {filename}\")"
      ]
    },
    {
      "cell_type": "code",
      "execution_count": null,
      "metadata": {
        "colab": {
          "base_uri": "https://localhost:8080/"
        },
        "id": "TjUWMjEewiEg",
        "outputId": "3983e18d-2062-4887-d206-0d7f59ac8cb8"
      },
      "outputs": [],
      "source": [
        "\n",
        "\"\"\"\n",
        "This script performs text collation on .txt files from a specified directory\n",
        "and outputs the result to a CSV file.\n",
        "\"\"\"\n",
        "\n",
        "input_files_path = \"input_files/\"\n",
        "output_files_path = \"output_files/\"\n",
        "text_name = \"trancoso_segmentation\" #change it for your text name\n",
        "collation = Collation()\n",
        "\n",
        "# Verify input directory exists\n",
        "if not os.path.exists(input_files_path):\n",
        "    raise FileNotFoundError(f\"Input directory {input_files_path} does not exist.\")\n",
        "\n",
        "# Verify output directory exists; if not, create it\n",
        "if not os.path.exists(output_files_path):\n",
        "    os.makedirs(output_files_path)\n",
        "\n",
        "# Get list of .txt files\n",
        "file_names = [f for f in os.listdir(input_files_path) if f.endswith('.txt')]\n",
        "witness_names = {}\n",
        "\n",
        "for file_name in file_names:\n",
        "    try:\n",
        "    # Extract witness name from file name\n",
        "      witness_name = file_name\n",
        "      witness_names[file_name] = witness_name\n",
        "    except IndexError:\n",
        "        print(f\"Error extracting witness name from file {file_name}\")\n",
        "\n",
        "\n",
        "    # Add each witness content to the collation\n",
        "    try:\n",
        "        with open(os.path.join(input_files_path, file_name), encoding='utf-8') as f:\n",
        "            witness_content = f.read()\n",
        "            collation.add_plain_witness(witness_name, witness_content)\n",
        "    except Exception as e:\n",
        "        print(f\"Error reading {file_name}: {e}\")\n",
        "# check witness name and print them\n",
        "for file, witness in witness_names.items():\n",
        "    print(f\"File: {file} -> Witness name: {witness}\")\n",
        "\n",
        "# Perform the collationTrue\n",
        "alignment_table = collate(collation, segmentation=False, layout='vertical', near_match=True, output='xml') # para la segmentación: segmentation=True y near_match=False\n",
        "#print(alignment_table)\n",
        "# Save the collation result to a CSV file (change the extension according to your needs –json, -xml)\n",
        "try:\n",
        "    with open(f\"{output_files_path}collatio_{text_name}.xml\", 'w', encoding='utf-8') as f:\n",
        "        f.write(alignment_table)\n",
        "except Exception as e:\n",
        "    print(f\"Error writing to output file: {e}\")\n"
      ]
    },
    {
      "cell_type": "markdown",
      "metadata": {
        "id": "lKHEogVRSn_4"
      },
      "source": [
        "# Vamos a ver algunos resultados"
      ]
    },
    {
      "cell_type": "code",
      "execution_count": null,
      "metadata": {
        "id": "mhqHU5CwEndY"
      },
      "outputs": [],
      "source": [
        "alignment_table_vertical = collate(collation, layout='vertical', segmentation=False )\n",
        "print(alignment_table_vertical)"
      ]
    },
    {
      "cell_type": "code",
      "execution_count": null,
      "metadata": {
        "id": "-aotLV2RE9IX"
      },
      "outputs": [],
      "source": [
        "alignment_table_vertical = collate(collation, layout='vertical', segmentation=True )\n",
        "print(alignment_table_vertical)"
      ]
    },
    {
      "cell_type": "code",
      "execution_count": null,
      "metadata": {
        "colab": {
          "base_uri": "https://localhost:8080/",
          "height": 1000
        },
        "id": "ITgDufkRGem_",
        "outputId": "51354047-afc9-46ae-d104-94ed583a06ff"
      },
      "outputs": [],
      "source": [
        "alignment_table = collate(collation, layout='vertical', output=\"html\")\n",
        "print(alignment_table)"
      ]
    },
    {
      "cell_type": "code",
      "execution_count": null,
      "metadata": {
        "colab": {
          "base_uri": "https://localhost:8080/",
          "height": 1000
        },
        "id": "6TcRS7wJHBv_",
        "outputId": "cd0c192d-517a-4d78-9380-a2305b064336"
      },
      "outputs": [],
      "source": [
        "alignment_table = collate(collation, layout='vertical', output=\"html2\", segmentation=False)\n",
        "print(alignment_table)"
      ]
    },
    {
      "cell_type": "markdown",
      "metadata": {
        "id": "dW9_PlhpLeM3"
      },
      "source": [
        "# Near match or not near match"
      ]
    },
    {
      "cell_type": "code",
      "execution_count": null,
      "metadata": {
        "id": "idxwp6OKW1od"
      },
      "outputs": [],
      "source": [
        "collation = Collation()\n"
      ]
    },
    {
      "cell_type": "code",
      "execution_count": null,
      "metadata": {
        "id": "7MXwhCXoKVBq"
      },
      "outputs": [],
      "source": [
        "collation.add_plain_witness( \"A\", \"me gusta lisboa\")\n",
        "collation.add_plain_witness( \"B\", \"Me gusta la ciudad Lisboa\" )\n",
        "collation.add_plain_witness( \"C\", \"Me gusta el país Portugal\" )"
      ]
    },
    {
      "cell_type": "code",
      "execution_count": null,
      "metadata": {
        "id": "jpyh_sCjK6SG"
      },
      "outputs": [],
      "source": [
        "alignment_table = collate(collation, layout='vertical', segmentation=False )"
      ]
    },
    {
      "cell_type": "code",
      "execution_count": null,
      "metadata": {
        "colab": {
          "base_uri": "https://localhost:8080/"
        },
        "id": "Yp1CTNHZK7ju",
        "outputId": "6f2126bd-1118-45e2-9a62-c5de82fd9c41"
      },
      "outputs": [
        {
          "name": "stdout",
          "output_type": "stream",
          "text": [
            "+--------+--------+----------+\n",
            "|   A    |   B    |    C     |\n",
            "+--------+--------+----------+\n",
            "|   me   |   Me   |    Me    |\n",
            "+--------+--------+----------+\n",
            "| gusta  | gusta  |  gusta   |\n",
            "+--------+--------+----------+\n",
            "| lisboa |   la   |    el    |\n",
            "+--------+--------+----------+\n",
            "|   -    | ciudad |   país   |\n",
            "+--------+--------+----------+\n",
            "|   -    | Lisboa | Portugal |\n",
            "+--------+--------+----------+\n"
          ]
        }
      ],
      "source": [
        "print(alignment_table)"
      ]
    },
    {
      "cell_type": "code",
      "execution_count": null,
      "metadata": {
        "id": "cRt7T6mALAtg"
      },
      "outputs": [],
      "source": [
        "alignment_table = collate(collation, layout='vertical', segmentation=False, near_match=True )"
      ]
    },
    {
      "cell_type": "code",
      "execution_count": null,
      "metadata": {
        "colab": {
          "base_uri": "https://localhost:8080/"
        },
        "id": "lIvdTK-aLFr2",
        "outputId": "5896931e-c32e-4569-ca05-44ee438a39dc"
      },
      "outputs": [
        {
          "name": "stdout",
          "output_type": "stream",
          "text": [
            "+--------+--------+----------+\n",
            "|   A    |   B    |    C     |\n",
            "+--------+--------+----------+\n",
            "|   me   |   Me   |    Me    |\n",
            "+--------+--------+----------+\n",
            "| gusta  | gusta  |  gusta   |\n",
            "+--------+--------+----------+\n",
            "|   -    |   la   |    el    |\n",
            "+--------+--------+----------+\n",
            "|   -    | ciudad |   país   |\n",
            "+--------+--------+----------+\n",
            "| lisboa | Lisboa | Portugal |\n",
            "+--------+--------+----------+\n"
          ]
        }
      ],
      "source": [
        "print(alignment_table)"
      ]
    },
    {
      "cell_type": "code",
      "execution_count": null,
      "metadata": {
        "colab": {
          "base_uri": "https://localhost:8080/",
          "height": 396
        },
        "id": "pM6BfPJrL-Ql",
        "outputId": "05f2dc6d-6a3d-4c6d-e508-248f83dfe145"
      },
      "outputs": [
        {
          "data": {
            "image/svg+xml": [
              "<svg xmlns=\"http://www.w3.org/2000/svg\" xmlns:xlink=\"http://www.w3.org/1999/xlink\" width=\"1105pt\" height=\"266pt\" viewBox=\"0.00 0.00 1105.06 265.54\">\n",
              "<g id=\"graph0\" class=\"graph\" transform=\"scale(1 1) rotate(0) translate(4 261.54)\">\n",
              "<title>%3</title>\n",
              "<polygon fill=\"white\" stroke=\"transparent\" points=\"-4,4 -4,-261.54 1101.06,-261.54 1101.06,4 -4,4\"/>\n",
              "<!-- 1 -->\n",
              "<g id=\"node1\" class=\"node\">\n",
              "<title>1</title>\n",
              "<ellipse fill=\"none\" stroke=\"black\" cx=\"71.42\" cy=\"-128.77\" rx=\"71.34\" ry=\"21.84\"/>\n",
              "<polygon fill=\"none\" stroke=\"black\" points=\"30.42,-117.77 30.42,-138.77 64.42,-138.77 64.42,-117.77 30.42,-117.77\"/>\n",
              "<text text-anchor=\"start\" x=\"33.42\" y=\"-125.57\" font-family=\"Times,serif\" font-weight=\"bold\" font-size=\"14.00\">start</text>\n",
              "<polygon fill=\"none\" stroke=\"black\" points=\"64.42,-117.77 64.42,-138.77 113.42,-138.77 113.42,-117.77 64.42,-117.77\"/>\n",
              "<text text-anchor=\"start\" x=\"67.42\" y=\"-124.57\" font-family=\"Times,serif\" font-size=\"14.00\">exact: 0</text>\n",
              "<polygon fill=\"none\" stroke=\"black\" points=\"28.92,-117.27 28.92,-140.27 113.92,-140.27 113.92,-117.27 28.92,-117.27\"/>\n",
              "</g>\n",
              "<!-- 3 -->\n",
              "<g id=\"node3\" class=\"node\">\n",
              "<title>3</title>\n",
              "<ellipse fill=\"none\" stroke=\"black\" cx=\"274.13\" cy=\"-174.77\" rx=\"69.09\" ry=\"36.54\"/>\n",
              "<polygon fill=\"none\" stroke=\"black\" points=\"234.13,-174.77 234.13,-195.77 265.13,-195.77 265.13,-174.77 234.13,-174.77\"/>\n",
              "<text text-anchor=\"start\" x=\"237.13\" y=\"-182.57\" font-family=\"Times,serif\" font-weight=\"bold\" font-size=\"14.00\">me</text>\n",
              "<polygon fill=\"none\" stroke=\"black\" points=\"265.13,-174.77 265.13,-195.77 314.13,-195.77 314.13,-174.77 265.13,-174.77\"/>\n",
              "<text text-anchor=\"start\" x=\"268.13\" y=\"-181.57\" font-family=\"Times,serif\" font-size=\"14.00\">exact: 1</text>\n",
              "<polygon fill=\"none\" stroke=\"black\" points=\"234.13,-153.77 234.13,-174.77 265.13,-174.77 265.13,-153.77 234.13,-153.77\"/>\n",
              "<text text-anchor=\"start\" x=\"237.13\" y=\"-160.57\" font-family=\"Bukyvede\" font-size=\"14.00\">me </text>\n",
              "<polygon fill=\"none\" stroke=\"black\" points=\"265.13,-153.77 265.13,-174.77 314.13,-174.77 314.13,-153.77 265.13,-153.77\"/>\n",
              "<text text-anchor=\"start\" x=\"268.13\" y=\"-160.57\" font-family=\"Times,serif\" font-size=\"14.00\">A</text>\n",
              "<polygon fill=\"none\" stroke=\"black\" points=\"233.13,-152.77 233.13,-196.77 315.13,-196.77 315.13,-152.77 233.13,-152.77\"/>\n",
              "</g>\n",
              "<!-- 1&#45;&gt;3 -->\n",
              "<g id=\"edge1\" class=\"edge\">\n",
              "<title>1-&gt;3</title>\n",
              "<path fill=\"none\" stroke=\"black\" d=\"M129.13,-141.77C151.24,-146.83 176.87,-152.71 200.32,-158.08\"/>\n",
              "<polygon fill=\"black\" stroke=\"black\" points=\"199.69,-161.53 210.22,-160.35 201.25,-154.7 199.69,-161.53\"/>\n",
              "<text text-anchor=\"middle\" x=\"173.84\" y=\"-157.57\" font-family=\"Times,serif\" font-size=\"14.00\">A</text>\n",
              "</g>\n",
              "<!-- 6 -->\n",
              "<g id=\"node6\" class=\"node\">\n",
              "<title>6</title>\n",
              "<ellipse fill=\"none\" stroke=\"black\" cx=\"274.13\" cy=\"-82.77\" rx=\"69.09\" ry=\"36.54\"/>\n",
              "<polygon fill=\"none\" stroke=\"black\" points=\"234.13,-82.77 234.13,-103.77 265.13,-103.77 265.13,-82.77 234.13,-82.77\"/>\n",
              "<text text-anchor=\"start\" x=\"237.13\" y=\"-90.57\" font-family=\"Times,serif\" font-weight=\"bold\" font-size=\"14.00\">Me</text>\n",
              "<polygon fill=\"none\" stroke=\"black\" points=\"265.13,-82.77 265.13,-103.77 314.13,-103.77 314.13,-82.77 265.13,-82.77\"/>\n",
              "<text text-anchor=\"start\" x=\"268.13\" y=\"-89.57\" font-family=\"Times,serif\" font-size=\"14.00\">exact: 1</text>\n",
              "<polygon fill=\"none\" stroke=\"black\" points=\"234.13,-61.77 234.13,-82.77 265.13,-82.77 265.13,-61.77 234.13,-61.77\"/>\n",
              "<text text-anchor=\"start\" x=\"237.13\" y=\"-68.57\" font-family=\"Bukyvede\" font-size=\"14.00\">Me </text>\n",
              "<polygon fill=\"none\" stroke=\"black\" points=\"265.13,-61.77 265.13,-82.77 314.13,-82.77 314.13,-61.77 265.13,-61.77\"/>\n",
              "<text text-anchor=\"start\" x=\"268.13\" y=\"-68.57\" font-family=\"Times,serif\" font-size=\"14.00\">B, C</text>\n",
              "<polygon fill=\"none\" stroke=\"black\" points=\"233.13,-60.77 233.13,-104.77 315.13,-104.77 315.13,-60.77 233.13,-60.77\"/>\n",
              "</g>\n",
              "<!-- 1&#45;&gt;6 -->\n",
              "<g id=\"edge2\" class=\"edge\">\n",
              "<title>1-&gt;6</title>\n",
              "<path fill=\"none\" stroke=\"black\" d=\"M129.13,-115.77C151.24,-110.7 176.87,-104.83 200.32,-99.46\"/>\n",
              "<polygon fill=\"black\" stroke=\"black\" points=\"201.25,-102.83 210.22,-97.19 199.69,-96.01 201.25,-102.83\"/>\n",
              "<text text-anchor=\"middle\" x=\"173.84\" y=\"-111.57\" font-family=\"Times,serif\" font-size=\"14.00\">B, C</text>\n",
              "</g>\n",
              "<!-- 2 -->\n",
              "<g id=\"node2\" class=\"node\">\n",
              "<title>2</title>\n",
              "<ellipse fill=\"none\" stroke=\"black\" cx=\"1029.88\" cy=\"-128.77\" rx=\"67.35\" ry=\"21.84\"/>\n",
              "<polygon fill=\"none\" stroke=\"black\" points=\"991.88,-117.77 991.88,-138.77 1019.88,-138.77 1019.88,-117.77 991.88,-117.77\"/>\n",
              "<text text-anchor=\"start\" x=\"994.88\" y=\"-125.57\" font-family=\"Times,serif\" font-weight=\"bold\" font-size=\"14.00\">end</text>\n",
              "<polygon fill=\"none\" stroke=\"black\" points=\"1019.88,-117.77 1019.88,-138.77 1068.88,-138.77 1068.88,-117.77 1019.88,-117.77\"/>\n",
              "<text text-anchor=\"start\" x=\"1022.88\" y=\"-124.57\" font-family=\"Times,serif\" font-size=\"14.00\">exact: 4</text>\n",
              "<polygon fill=\"none\" stroke=\"black\" points=\"990.38,-117.27 990.38,-140.27 1069.38,-140.27 1069.38,-117.27 990.38,-117.27\"/>\n",
              "</g>\n",
              "<!-- 4 -->\n",
              "<g id=\"node4\" class=\"node\">\n",
              "<title>4</title>\n",
              "<ellipse fill=\"none\" stroke=\"black\" cx=\"492.4\" cy=\"-128.77\" rx=\"86.95\" ry=\"36.54\"/>\n",
              "<polygon fill=\"none\" stroke=\"black\" points=\"440.4,-128.77 440.4,-149.77 496.4,-149.77 496.4,-128.77 440.4,-128.77\"/>\n",
              "<text text-anchor=\"start\" x=\"443.4\" y=\"-136.57\" font-family=\"Times,serif\" font-weight=\"bold\" font-size=\"14.00\">gusta</text>\n",
              "<polygon fill=\"none\" stroke=\"black\" points=\"496.4,-128.77 496.4,-149.77 545.4,-149.77 545.4,-128.77 496.4,-128.77\"/>\n",
              "<text text-anchor=\"start\" x=\"499.4\" y=\"-135.57\" font-family=\"Times,serif\" font-size=\"14.00\">exact: 2</text>\n",
              "<polygon fill=\"none\" stroke=\"black\" points=\"440.4,-107.77 440.4,-128.77 496.4,-128.77 496.4,-107.77 440.4,-107.77\"/>\n",
              "<text text-anchor=\"start\" x=\"443.4\" y=\"-114.57\" font-family=\"Bukyvede\" font-size=\"14.00\">gusta </text>\n",
              "<polygon fill=\"none\" stroke=\"black\" points=\"496.4,-107.77 496.4,-128.77 545.4,-128.77 545.4,-107.77 496.4,-107.77\"/>\n",
              "<text text-anchor=\"start\" x=\"499.4\" y=\"-114.57\" font-family=\"Times,serif\" font-size=\"14.00\">A, B, C</text>\n",
              "<polygon fill=\"none\" stroke=\"black\" points=\"438.9,-106.77 438.9,-150.77 545.9,-150.77 545.9,-106.77 438.9,-106.77\"/>\n",
              "</g>\n",
              "<!-- 3&#45;&gt;4 -->\n",
              "<g id=\"edge3\" class=\"edge\">\n",
              "<title>3-&gt;4</title>\n",
              "<path fill=\"none\" stroke=\"black\" d=\"M338.85,-161.22C359.38,-156.85 382.49,-151.93 404.4,-147.27\"/>\n",
              "<polygon fill=\"black\" stroke=\"black\" points=\"405.32,-150.66 414.37,-145.15 403.86,-143.81 405.32,-150.66\"/>\n",
              "<text text-anchor=\"middle\" x=\"374.43\" y=\"-159.57\" font-family=\"Times,serif\" font-size=\"14.00\">A</text>\n",
              "</g>\n",
              "<!-- 5 -->\n",
              "<g id=\"node5\" class=\"node\">\n",
              "<title>5</title>\n",
              "<ellipse fill=\"none\" stroke=\"black\" cx=\"771.04\" cy=\"-220.77\" rx=\"86.95\" ry=\"36.54\"/>\n",
              "<polygon fill=\"none\" stroke=\"black\" points=\"719.04,-220.77 719.04,-241.77 775.04,-241.77 775.04,-220.77 719.04,-220.77\"/>\n",
              "<text text-anchor=\"start\" x=\"722.04\" y=\"-228.57\" font-family=\"Times,serif\" font-weight=\"bold\" font-size=\"14.00\">lisboa</text>\n",
              "<polygon fill=\"none\" stroke=\"black\" points=\"775.04,-220.77 775.04,-241.77 824.04,-241.77 824.04,-220.77 775.04,-220.77\"/>\n",
              "<text text-anchor=\"start\" x=\"778.04\" y=\"-227.57\" font-family=\"Times,serif\" font-size=\"14.00\">exact: 3</text>\n",
              "<polygon fill=\"none\" stroke=\"black\" points=\"719.04,-199.77 719.04,-220.77 775.04,-220.77 775.04,-199.77 719.04,-199.77\"/>\n",
              "<text text-anchor=\"start\" x=\"722.04\" y=\"-206.57\" font-family=\"Bukyvede\" font-size=\"14.00\">lisboa</text>\n",
              "<polygon fill=\"none\" stroke=\"black\" points=\"775.04,-199.77 775.04,-220.77 824.04,-220.77 824.04,-199.77 775.04,-199.77\"/>\n",
              "<text text-anchor=\"start\" x=\"778.04\" y=\"-206.57\" font-family=\"Times,serif\" font-size=\"14.00\">A</text>\n",
              "<polygon fill=\"none\" stroke=\"black\" points=\"717.54,-198.77 717.54,-242.77 824.54,-242.77 824.54,-198.77 717.54,-198.77\"/>\n",
              "</g>\n",
              "<!-- 4&#45;&gt;5 -->\n",
              "<g id=\"edge4\" class=\"edge\">\n",
              "<title>4-&gt;5</title>\n",
              "<path fill=\"none\" stroke=\"black\" d=\"M559.74,-152.29C580.7,-159.62 603.97,-167.64 625.38,-174.77 646.52,-181.81 669.47,-189.22 690.74,-195.99\"/>\n",
              "<polygon fill=\"black\" stroke=\"black\" points=\"689.79,-199.36 700.38,-199.05 691.91,-192.68 689.79,-199.36\"/>\n",
              "<text text-anchor=\"middle\" x=\"602.38\" y=\"-171.57\" font-family=\"Times,serif\" font-size=\"14.00\">A</text>\n",
              "</g>\n",
              "<!-- 7 -->\n",
              "<g id=\"node7\" class=\"node\">\n",
              "<title>7</title>\n",
              "<ellipse fill=\"none\" stroke=\"black\" cx=\"771.04\" cy=\"-128.77\" rx=\"145.83\" ry=\"36.54\"/>\n",
              "<polygon fill=\"none\" stroke=\"black\" points=\"677.04,-128.77 677.04,-149.77 816.04,-149.77 816.04,-128.77 677.04,-128.77\"/>\n",
              "<text text-anchor=\"start\" x=\"680.04\" y=\"-136.57\" font-family=\"Times,serif\" font-weight=\"bold\" font-size=\"14.00\">la ciudad Lisboa</text>\n",
              "<polygon fill=\"none\" stroke=\"black\" points=\"816.04,-128.77 816.04,-149.77 865.04,-149.77 865.04,-128.77 816.04,-128.77\"/>\n",
              "<text text-anchor=\"start\" x=\"819.04\" y=\"-135.57\" font-family=\"Times,serif\" font-size=\"14.00\">exact: 3</text>\n",
              "<polygon fill=\"none\" stroke=\"black\" points=\"677.04,-107.77 677.04,-128.77 816.04,-128.77 816.04,-107.77 677.04,-107.77\"/>\n",
              "<text text-anchor=\"start\" x=\"680.04\" y=\"-114.57\" font-family=\"Bukyvede\" font-size=\"14.00\">la ciudad Lisboa</text>\n",
              "<polygon fill=\"none\" stroke=\"black\" points=\"816.04,-107.77 816.04,-128.77 865.04,-128.77 865.04,-107.77 816.04,-107.77\"/>\n",
              "<text text-anchor=\"start\" x=\"819.04\" y=\"-114.57\" font-family=\"Times,serif\" font-size=\"14.00\">B</text>\n",
              "<polygon fill=\"none\" stroke=\"black\" points=\"676.04,-106.77 676.04,-150.77 866.04,-150.77 866.04,-106.77 676.04,-106.77\"/>\n",
              "</g>\n",
              "<!-- 4&#45;&gt;7 -->\n",
              "<g id=\"edge5\" class=\"edge\">\n",
              "<title>4-&gt;7</title>\n",
              "<path fill=\"none\" stroke=\"black\" d=\"M579.42,-128.77C590.82,-128.77 602.77,-128.77 614.9,-128.77\"/>\n",
              "<polygon fill=\"black\" stroke=\"black\" points=\"615.13,-132.27 625.13,-128.77 615.13,-125.27 615.13,-132.27\"/>\n",
              "<text text-anchor=\"middle\" x=\"602.38\" y=\"-132.57\" font-family=\"Times,serif\" font-size=\"14.00\">B</text>\n",
              "</g>\n",
              "<!-- 8 -->\n",
              "<g id=\"node8\" class=\"node\">\n",
              "<title>8</title>\n",
              "<ellipse fill=\"none\" stroke=\"black\" cx=\"771.04\" cy=\"-36.77\" rx=\"145.83\" ry=\"36.54\"/>\n",
              "<polygon fill=\"none\" stroke=\"black\" points=\"677.04,-36.77 677.04,-57.77 816.04,-57.77 816.04,-36.77 677.04,-36.77\"/>\n",
              "<text text-anchor=\"start\" x=\"680.04\" y=\"-44.57\" font-family=\"Times,serif\" font-weight=\"bold\" font-size=\"14.00\">el país Portugal</text>\n",
              "<polygon fill=\"none\" stroke=\"black\" points=\"816.04,-36.77 816.04,-57.77 865.04,-57.77 865.04,-36.77 816.04,-36.77\"/>\n",
              "<text text-anchor=\"start\" x=\"819.04\" y=\"-43.57\" font-family=\"Times,serif\" font-size=\"14.00\">exact: 3</text>\n",
              "<polygon fill=\"none\" stroke=\"black\" points=\"677.04,-15.77 677.04,-36.77 816.04,-36.77 816.04,-15.77 677.04,-15.77\"/>\n",
              "<text text-anchor=\"start\" x=\"680.04\" y=\"-22.57\" font-family=\"Bukyvede\" font-size=\"14.00\">el país Portugal</text>\n",
              "<polygon fill=\"none\" stroke=\"black\" points=\"816.04,-15.77 816.04,-36.77 865.04,-36.77 865.04,-15.77 816.04,-15.77\"/>\n",
              "<text text-anchor=\"start\" x=\"819.04\" y=\"-22.57\" font-family=\"Times,serif\" font-size=\"14.00\">C</text>\n",
              "<polygon fill=\"none\" stroke=\"black\" points=\"676.04,-14.77 676.04,-58.77 866.04,-58.77 866.04,-14.77 676.04,-14.77\"/>\n",
              "</g>\n",
              "<!-- 4&#45;&gt;8 -->\n",
              "<g id=\"edge6\" class=\"edge\">\n",
              "<title>4-&gt;8</title>\n",
              "<path fill=\"none\" stroke=\"black\" d=\"M559.74,-105.25C580.7,-97.92 603.97,-89.9 625.38,-82.77 639.53,-78.05 654.49,-73.18 669.22,-68.44\"/>\n",
              "<polygon fill=\"black\" stroke=\"black\" points=\"670.4,-71.73 678.86,-65.34 668.26,-65.07 670.4,-71.73\"/>\n",
              "<text text-anchor=\"middle\" x=\"602.38\" y=\"-95.57\" font-family=\"Times,serif\" font-size=\"14.00\">C</text>\n",
              "</g>\n",
              "<!-- 5&#45;&gt;2 -->\n",
              "<g id=\"edge7\" class=\"edge\">\n",
              "<title>5-&gt;2</title>\n",
              "<path fill=\"none\" stroke=\"black\" d=\"M842.33,-199.68C866.09,-192.22 892.68,-183.5 916.7,-174.77 937.45,-167.23 960.01,-158.15 979.43,-150.06\"/>\n",
              "<polygon fill=\"black\" stroke=\"black\" points=\"980.82,-153.27 988.69,-146.18 978.11,-146.82 980.82,-153.27\"/>\n",
              "<text text-anchor=\"middle\" x=\"939.7\" y=\"-171.57\" font-family=\"Times,serif\" font-size=\"14.00\">A</text>\n",
              "</g>\n",
              "<!-- 6&#45;&gt;4 -->\n",
              "<g id=\"edge8\" class=\"edge\">\n",
              "<title>6-&gt;4</title>\n",
              "<path fill=\"none\" stroke=\"black\" d=\"M338.85,-96.32C359.38,-100.69 382.49,-105.61 404.4,-110.27\"/>\n",
              "<polygon fill=\"black\" stroke=\"black\" points=\"403.86,-113.73 414.37,-112.39 405.32,-106.88 403.86,-113.73\"/>\n",
              "<text text-anchor=\"middle\" x=\"374.43\" y=\"-109.57\" font-family=\"Times,serif\" font-size=\"14.00\">B, C</text>\n",
              "</g>\n",
              "<!-- 7&#45;&gt;2 -->\n",
              "<g id=\"edge9\" class=\"edge\">\n",
              "<title>7-&gt;2</title>\n",
              "<path fill=\"none\" stroke=\"black\" d=\"M916.97,-128.77C929.08,-128.77 940.99,-128.77 952.26,-128.77\"/>\n",
              "<polygon fill=\"black\" stroke=\"black\" points=\"952.42,-132.27 962.42,-128.77 952.42,-125.27 952.42,-132.27\"/>\n",
              "<text text-anchor=\"middle\" x=\"939.7\" y=\"-132.57\" font-family=\"Times,serif\" font-size=\"14.00\">B</text>\n",
              "</g>\n",
              "<!-- 8&#45;&gt;2 -->\n",
              "<g id=\"edge10\" class=\"edge\">\n",
              "<title>8-&gt;2</title>\n",
              "<path fill=\"none\" stroke=\"black\" d=\"M864.64,-64.98C882.02,-70.63 899.98,-76.69 916.7,-82.77 937.45,-90.31 960.01,-99.38 979.43,-107.48\"/>\n",
              "<polygon fill=\"black\" stroke=\"black\" points=\"978.11,-110.72 988.69,-111.36 980.82,-104.27 978.11,-110.72\"/>\n",
              "<text text-anchor=\"middle\" x=\"939.7\" y=\"-97.57\" font-family=\"Times,serif\" font-size=\"14.00\">C</text>\n",
              "</g>\n",
              "</g>\n",
              "</svg>"
            ],
            "text/plain": [
              "<IPython.core.display.SVG object>"
            ]
          },
          "metadata": {},
          "output_type": "display_data"
        }
      ],
      "source": [
        "graph = collate( collation, output=\"svg\" )"
      ]
    },
    {
      "cell_type": "code",
      "execution_count": null,
      "metadata": {
        "id": "B-BKfS_vMLue"
      },
      "outputs": [],
      "source": [
        "collation = Collation()"
      ]
    },
    {
      "cell_type": "code",
      "execution_count": null,
      "metadata": {
        "id": "2iZNgRrxMJkb"
      },
      "outputs": [],
      "source": [
        "collation.add_plain_witness( \"A\", \"me gusta Santander\")\n",
        "collation.add_plain_witness( \"B\", \"me gusta la ciudad Santander\" )\n",
        "collation.add_plain_witness( \"C\", \"me gusta España\" )"
      ]
    },
    {
      "cell_type": "code",
      "execution_count": null,
      "metadata": {
        "colab": {
          "base_uri": "https://localhost:8080/",
          "height": 331
        },
        "id": "EqLF3TpOMcos",
        "outputId": "4a312b45-7342-4d83-d8a5-b17194fe510d"
      },
      "outputs": [
        {
          "data": {
            "image/svg+xml": [
              "<svg xmlns=\"http://www.w3.org/2000/svg\" xmlns:xlink=\"http://www.w3.org/1999/xlink\" width=\"1479pt\" height=\"217pt\" viewBox=\"0.00 0.00 1478.57 216.77\">\n",
              "<g id=\"graph0\" class=\"graph\" transform=\"scale(1 1) rotate(0) translate(4 212.77)\">\n",
              "<title>%3</title>\n",
              "<polygon fill=\"white\" stroke=\"transparent\" points=\"-4,4 -4,-212.77 1474.57,-212.77 1474.57,4 -4,4\"/>\n",
              "<!-- 1 -->\n",
              "<g id=\"node1\" class=\"node\">\n",
              "<title>1</title>\n",
              "<ellipse fill=\"none\" stroke=\"black\" cx=\"71.42\" cy=\"-128.77\" rx=\"71.34\" ry=\"21.84\"/>\n",
              "<polygon fill=\"none\" stroke=\"black\" points=\"30.42,-117.77 30.42,-138.77 64.42,-138.77 64.42,-117.77 30.42,-117.77\"/>\n",
              "<text text-anchor=\"start\" x=\"33.42\" y=\"-125.57\" font-family=\"Times,serif\" font-weight=\"bold\" font-size=\"14.00\">start</text>\n",
              "<polygon fill=\"none\" stroke=\"black\" points=\"64.42,-117.77 64.42,-138.77 113.42,-138.77 113.42,-117.77 64.42,-117.77\"/>\n",
              "<text text-anchor=\"start\" x=\"67.42\" y=\"-124.57\" font-family=\"Times,serif\" font-size=\"14.00\">exact: 0</text>\n",
              "<polygon fill=\"none\" stroke=\"black\" points=\"28.92,-117.27 28.92,-140.27 113.92,-140.27 113.92,-117.27 28.92,-117.27\"/>\n",
              "</g>\n",
              "<!-- 3 -->\n",
              "<g id=\"node3\" class=\"node\">\n",
              "<title>3</title>\n",
              "<ellipse fill=\"none\" stroke=\"black\" cx=\"291.13\" cy=\"-128.77\" rx=\"69.09\" ry=\"36.54\"/>\n",
              "<polygon fill=\"none\" stroke=\"black\" points=\"251.13,-128.77 251.13,-149.77 282.13,-149.77 282.13,-128.77 251.13,-128.77\"/>\n",
              "<text text-anchor=\"start\" x=\"254.13\" y=\"-136.57\" font-family=\"Times,serif\" font-weight=\"bold\" font-size=\"14.00\">me</text>\n",
              "<polygon fill=\"none\" stroke=\"black\" points=\"282.13,-128.77 282.13,-149.77 331.13,-149.77 331.13,-128.77 282.13,-128.77\"/>\n",
              "<text text-anchor=\"start\" x=\"285.13\" y=\"-135.57\" font-family=\"Times,serif\" font-size=\"14.00\">exact: 1</text>\n",
              "<polygon fill=\"none\" stroke=\"black\" points=\"251.13,-107.77 251.13,-128.77 282.13,-128.77 282.13,-107.77 251.13,-107.77\"/>\n",
              "<text text-anchor=\"start\" x=\"254.13\" y=\"-114.57\" font-family=\"Bukyvede\" font-size=\"14.00\">me </text>\n",
              "<polygon fill=\"none\" stroke=\"black\" points=\"282.13,-107.77 282.13,-128.77 331.13,-128.77 331.13,-107.77 282.13,-107.77\"/>\n",
              "<text text-anchor=\"start\" x=\"285.13\" y=\"-114.57\" font-family=\"Times,serif\" font-size=\"14.00\">A, B, C</text>\n",
              "<polygon fill=\"none\" stroke=\"black\" points=\"250.13,-106.77 250.13,-150.77 332.13,-150.77 332.13,-106.77 250.13,-106.77\"/>\n",
              "</g>\n",
              "<!-- 1&#45;&gt;3 -->\n",
              "<g id=\"edge1\" class=\"edge\">\n",
              "<title>1-&gt;3</title>\n",
              "<path fill=\"none\" stroke=\"black\" d=\"M143.1,-128.77C164.96,-128.77 189.17,-128.77 211.53,-128.77\"/>\n",
              "<polygon fill=\"black\" stroke=\"black\" points=\"211.66,-132.27 221.66,-128.77 211.66,-125.27 211.66,-132.27\"/>\n",
              "<text text-anchor=\"middle\" x=\"182.34\" y=\"-132.57\" font-family=\"Times,serif\" font-size=\"14.00\">A, B, C</text>\n",
              "</g>\n",
              "<!-- 2 -->\n",
              "<g id=\"node2\" class=\"node\">\n",
              "<title>2</title>\n",
              "<ellipse fill=\"none\" stroke=\"black\" cx=\"1403.4\" cy=\"-82.77\" rx=\"67.35\" ry=\"21.84\"/>\n",
              "<polygon fill=\"none\" stroke=\"black\" points=\"1365.4,-71.77 1365.4,-92.77 1393.4,-92.77 1393.4,-71.77 1365.4,-71.77\"/>\n",
              "<text text-anchor=\"start\" x=\"1368.4\" y=\"-79.57\" font-family=\"Times,serif\" font-weight=\"bold\" font-size=\"14.00\">end</text>\n",
              "<polygon fill=\"none\" stroke=\"black\" points=\"1393.4,-71.77 1393.4,-92.77 1442.4,-92.77 1442.4,-71.77 1393.4,-71.77\"/>\n",
              "<text text-anchor=\"start\" x=\"1396.4\" y=\"-78.57\" font-family=\"Times,serif\" font-size=\"14.00\">exact: 6</text>\n",
              "<polygon fill=\"none\" stroke=\"black\" points=\"1363.9,-71.27 1363.9,-94.27 1442.9,-94.27 1442.9,-71.27 1363.9,-71.27\"/>\n",
              "</g>\n",
              "<!-- 4 -->\n",
              "<g id=\"node4\" class=\"node\">\n",
              "<title>4</title>\n",
              "<ellipse fill=\"none\" stroke=\"black\" cx=\"526.4\" cy=\"-128.77\" rx=\"86.95\" ry=\"36.54\"/>\n",
              "<polygon fill=\"none\" stroke=\"black\" points=\"474.4,-128.77 474.4,-149.77 530.4,-149.77 530.4,-128.77 474.4,-128.77\"/>\n",
              "<text text-anchor=\"start\" x=\"477.4\" y=\"-136.57\" font-family=\"Times,serif\" font-weight=\"bold\" font-size=\"14.00\">gusta</text>\n",
              "<polygon fill=\"none\" stroke=\"black\" points=\"530.4,-128.77 530.4,-149.77 579.4,-149.77 579.4,-128.77 530.4,-128.77\"/>\n",
              "<text text-anchor=\"start\" x=\"533.4\" y=\"-135.57\" font-family=\"Times,serif\" font-size=\"14.00\">exact: 2</text>\n",
              "<polygon fill=\"none\" stroke=\"black\" points=\"474.4,-107.77 474.4,-128.77 530.4,-128.77 530.4,-107.77 474.4,-107.77\"/>\n",
              "<text text-anchor=\"start\" x=\"477.4\" y=\"-114.57\" font-family=\"Bukyvede\" font-size=\"14.00\">gusta </text>\n",
              "<polygon fill=\"none\" stroke=\"black\" points=\"530.4,-107.77 530.4,-128.77 579.4,-128.77 579.4,-107.77 530.4,-107.77\"/>\n",
              "<text text-anchor=\"start\" x=\"533.4\" y=\"-114.57\" font-family=\"Times,serif\" font-size=\"14.00\">A, B, C</text>\n",
              "<polygon fill=\"none\" stroke=\"black\" points=\"472.9,-106.77 472.9,-150.77 579.9,-150.77 579.9,-106.77 472.9,-106.77\"/>\n",
              "</g>\n",
              "<!-- 3&#45;&gt;4 -->\n",
              "<g id=\"edge2\" class=\"edge\">\n",
              "<title>3-&gt;4</title>\n",
              "<path fill=\"none\" stroke=\"black\" d=\"M360.54,-128.77C381.98,-128.77 406.04,-128.77 429.03,-128.77\"/>\n",
              "<polygon fill=\"black\" stroke=\"black\" points=\"429.15,-132.27 439.15,-128.77 429.15,-125.27 429.15,-132.27\"/>\n",
              "<text text-anchor=\"middle\" x=\"399.93\" y=\"-132.57\" font-family=\"Times,serif\" font-size=\"14.00\">A, B, C</text>\n",
              "</g>\n",
              "<!-- 5 -->\n",
              "<g id=\"node5\" class=\"node\">\n",
              "<title>5</title>\n",
              "<ellipse fill=\"none\" stroke=\"black\" cx=\"1174.23\" cy=\"-128.77\" rx=\"86.95\" ry=\"36.54\"/>\n",
              "<polygon fill=\"none\" stroke=\"black\" points=\"1122.23,-128.77 1122.23,-149.77 1178.23,-149.77 1178.23,-128.77 1122.23,-128.77\"/>\n",
              "<text text-anchor=\"start\" x=\"1125.23\" y=\"-136.57\" font-family=\"Times,serif\" font-weight=\"bold\" font-size=\"14.00\">lisboa</text>\n",
              "<polygon fill=\"none\" stroke=\"black\" points=\"1178.23,-128.77 1178.23,-149.77 1227.23,-149.77 1227.23,-128.77 1178.23,-128.77\"/>\n",
              "<text text-anchor=\"start\" x=\"1181.23\" y=\"-135.57\" font-family=\"Times,serif\" font-size=\"14.00\">exact: 5</text>\n",
              "<polygon fill=\"none\" stroke=\"black\" points=\"1122.23,-107.77 1122.23,-128.77 1178.23,-128.77 1178.23,-107.77 1122.23,-107.77\"/>\n",
              "<text text-anchor=\"start\" x=\"1125.23\" y=\"-114.57\" font-family=\"Bukyvede\" font-size=\"14.00\">lisboa</text>\n",
              "<polygon fill=\"none\" stroke=\"black\" points=\"1178.23,-107.77 1178.23,-128.77 1227.23,-128.77 1227.23,-107.77 1178.23,-107.77\"/>\n",
              "<text text-anchor=\"start\" x=\"1181.23\" y=\"-114.57\" font-family=\"Times,serif\" font-size=\"14.00\">A, B</text>\n",
              "<polygon fill=\"none\" stroke=\"black\" points=\"1120.73,-106.77 1120.73,-150.77 1227.73,-150.77 1227.73,-106.77 1120.73,-106.77\"/>\n",
              "</g>\n",
              "<!-- 4&#45;&gt;5 -->\n",
              "<g id=\"edge3\" class=\"edge\">\n",
              "<title>4-&gt;5</title>\n",
              "<path fill=\"none\" stroke=\"black\" d=\"M588.38,-154.81C610.34,-162.89 635.57,-170.74 659.38,-174.77 821.45,-202.21 866.81,-200.08 1029.23,-174.77 1052.72,-171.11 1077.62,-164.28 1099.99,-156.98\"/>\n",
              "<polygon fill=\"black\" stroke=\"black\" points=\"1101.37,-160.21 1109.74,-153.72 1099.15,-153.57 1101.37,-160.21\"/>\n",
              "<text text-anchor=\"middle\" x=\"820.97\" y=\"-197.57\" font-family=\"Times,serif\" font-size=\"14.00\">A</text>\n",
              "</g>\n",
              "<!-- 6 -->\n",
              "<g id=\"node6\" class=\"node\">\n",
              "<title>6</title>\n",
              "<ellipse fill=\"none\" stroke=\"black\" cx=\"728.67\" cy=\"-128.77\" rx=\"69.09\" ry=\"36.54\"/>\n",
              "<polygon fill=\"none\" stroke=\"black\" points=\"688.67,-128.77 688.67,-149.77 719.67,-149.77 719.67,-128.77 688.67,-128.77\"/>\n",
              "<text text-anchor=\"start\" x=\"691.67\" y=\"-136.57\" font-family=\"Times,serif\" font-weight=\"bold\" font-size=\"14.00\">la</text>\n",
              "<polygon fill=\"none\" stroke=\"black\" points=\"719.67,-128.77 719.67,-149.77 768.67,-149.77 768.67,-128.77 719.67,-128.77\"/>\n",
              "<text text-anchor=\"start\" x=\"722.67\" y=\"-135.57\" font-family=\"Times,serif\" font-size=\"14.00\">exact: 3</text>\n",
              "<polygon fill=\"none\" stroke=\"black\" points=\"688.67,-107.77 688.67,-128.77 719.67,-128.77 719.67,-107.77 688.67,-107.77\"/>\n",
              "<text text-anchor=\"start\" x=\"691.67\" y=\"-114.57\" font-family=\"Bukyvede\" font-size=\"14.00\">la </text>\n",
              "<polygon fill=\"none\" stroke=\"black\" points=\"719.67,-107.77 719.67,-128.77 768.67,-128.77 768.67,-107.77 719.67,-107.77\"/>\n",
              "<text text-anchor=\"start\" x=\"722.67\" y=\"-114.57\" font-family=\"Times,serif\" font-size=\"14.00\">B</text>\n",
              "<polygon fill=\"none\" stroke=\"black\" points=\"687.67,-106.77 687.67,-150.77 769.67,-150.77 769.67,-106.77 687.67,-106.77\"/>\n",
              "</g>\n",
              "<!-- 4&#45;&gt;6 -->\n",
              "<g id=\"edge4\" class=\"edge\">\n",
              "<title>4-&gt;6</title>\n",
              "<path fill=\"none\" stroke=\"black\" d=\"M613.5,-128.77C625.31,-128.77 637.38,-128.77 649.04,-128.77\"/>\n",
              "<polygon fill=\"black\" stroke=\"black\" points=\"649.17,-132.27 659.17,-128.77 649.17,-125.27 649.17,-132.27\"/>\n",
              "<text text-anchor=\"middle\" x=\"636.38\" y=\"-132.57\" font-family=\"Times,serif\" font-size=\"14.00\">B</text>\n",
              "</g>\n",
              "<!-- 8 -->\n",
              "<g id=\"node8\" class=\"node\">\n",
              "<title>8</title>\n",
              "<ellipse fill=\"none\" stroke=\"black\" cx=\"728.67\" cy=\"-36.77\" rx=\"69.09\" ry=\"36.54\"/>\n",
              "<polygon fill=\"none\" stroke=\"black\" points=\"688.67,-36.77 688.67,-57.77 719.67,-57.77 719.67,-36.77 688.67,-36.77\"/>\n",
              "<text text-anchor=\"start\" x=\"691.67\" y=\"-44.57\" font-family=\"Times,serif\" font-weight=\"bold\" font-size=\"14.00\">el</text>\n",
              "<polygon fill=\"none\" stroke=\"black\" points=\"719.67,-36.77 719.67,-57.77 768.67,-57.77 768.67,-36.77 719.67,-36.77\"/>\n",
              "<text text-anchor=\"start\" x=\"722.67\" y=\"-43.57\" font-family=\"Times,serif\" font-size=\"14.00\">exact: 3</text>\n",
              "<polygon fill=\"none\" stroke=\"black\" points=\"688.67,-15.77 688.67,-36.77 719.67,-36.77 719.67,-15.77 688.67,-15.77\"/>\n",
              "<text text-anchor=\"start\" x=\"691.67\" y=\"-22.57\" font-family=\"Bukyvede\" font-size=\"14.00\">el </text>\n",
              "<polygon fill=\"none\" stroke=\"black\" points=\"719.67,-15.77 719.67,-36.77 768.67,-36.77 768.67,-15.77 719.67,-15.77\"/>\n",
              "<text text-anchor=\"start\" x=\"722.67\" y=\"-22.57\" font-family=\"Times,serif\" font-size=\"14.00\">C</text>\n",
              "<polygon fill=\"none\" stroke=\"black\" points=\"687.67,-14.77 687.67,-58.77 769.67,-58.77 769.67,-14.77 687.67,-14.77\"/>\n",
              "</g>\n",
              "<!-- 4&#45;&gt;8 -->\n",
              "<g id=\"edge5\" class=\"edge\">\n",
              "<title>4-&gt;8</title>\n",
              "<path fill=\"none\" stroke=\"black\" d=\"M585.87,-101.91C611.16,-90.29 640.78,-76.69 666.38,-64.93\"/>\n",
              "<polygon fill=\"black\" stroke=\"black\" points=\"667.99,-68.04 675.62,-60.68 665.07,-61.68 667.99,-68.04\"/>\n",
              "<text text-anchor=\"middle\" x=\"636.38\" y=\"-84.57\" font-family=\"Times,serif\" font-size=\"14.00\">C</text>\n",
              "</g>\n",
              "<!-- 5&#45;&gt;2 -->\n",
              "<g id=\"edge6\" class=\"edge\">\n",
              "<title>5-&gt;2</title>\n",
              "<path fill=\"none\" stroke=\"black\" d=\"M1253.09,-113C1279.96,-107.56 1309.8,-101.52 1335.7,-96.27\"/>\n",
              "<polygon fill=\"black\" stroke=\"black\" points=\"1336.68,-99.65 1345.79,-94.23 1335.3,-92.79 1336.68,-99.65\"/>\n",
              "<text text-anchor=\"middle\" x=\"1304.72\" y=\"-108.57\" font-family=\"Times,serif\" font-size=\"14.00\">A, B</text>\n",
              "</g>\n",
              "<!-- 7 -->\n",
              "<g id=\"node7\" class=\"node\">\n",
              "<title>7</title>\n",
              "<ellipse fill=\"none\" stroke=\"black\" cx=\"936.6\" cy=\"-128.77\" rx=\"92.76\" ry=\"36.54\"/>\n",
              "<polygon fill=\"none\" stroke=\"black\" points=\"880.6,-128.77 880.6,-149.77 944.6,-149.77 944.6,-128.77 880.6,-128.77\"/>\n",
              "<text text-anchor=\"start\" x=\"883.6\" y=\"-136.57\" font-family=\"Times,serif\" font-weight=\"bold\" font-size=\"14.00\">ciudad</text>\n",
              "<polygon fill=\"none\" stroke=\"black\" points=\"944.6,-128.77 944.6,-149.77 993.6,-149.77 993.6,-128.77 944.6,-128.77\"/>\n",
              "<text text-anchor=\"start\" x=\"947.6\" y=\"-135.57\" font-family=\"Times,serif\" font-size=\"14.00\">exact: 4</text>\n",
              "<polygon fill=\"none\" stroke=\"black\" points=\"880.6,-107.77 880.6,-128.77 944.6,-128.77 944.6,-107.77 880.6,-107.77\"/>\n",
              "<text text-anchor=\"start\" x=\"883.6\" y=\"-114.57\" font-family=\"Bukyvede\" font-size=\"14.00\">ciudad </text>\n",
              "<polygon fill=\"none\" stroke=\"black\" points=\"944.6,-107.77 944.6,-128.77 993.6,-128.77 993.6,-107.77 944.6,-107.77\"/>\n",
              "<text text-anchor=\"start\" x=\"947.6\" y=\"-114.57\" font-family=\"Times,serif\" font-size=\"14.00\">B</text>\n",
              "<polygon fill=\"none\" stroke=\"black\" points=\"879.1,-106.77 879.1,-150.77 994.1,-150.77 994.1,-106.77 879.1,-106.77\"/>\n",
              "</g>\n",
              "<!-- 6&#45;&gt;7 -->\n",
              "<g id=\"edge7\" class=\"edge\">\n",
              "<title>6-&gt;7</title>\n",
              "<path fill=\"none\" stroke=\"black\" d=\"M798.24,-128.77C809.67,-128.77 821.73,-128.77 833.78,-128.77\"/>\n",
              "<polygon fill=\"black\" stroke=\"black\" points=\"833.87,-132.27 843.87,-128.77 833.87,-125.27 833.87,-132.27\"/>\n",
              "<text text-anchor=\"middle\" x=\"820.97\" y=\"-132.57\" font-family=\"Times,serif\" font-size=\"14.00\">B</text>\n",
              "</g>\n",
              "<!-- 7&#45;&gt;5 -->\n",
              "<g id=\"edge8\" class=\"edge\">\n",
              "<title>7-&gt;5</title>\n",
              "<path fill=\"none\" stroke=\"black\" d=\"M1029.37,-128.77C1044.96,-128.77 1061.18,-128.77 1076.87,-128.77\"/>\n",
              "<polygon fill=\"black\" stroke=\"black\" points=\"1077.1,-132.27 1087.1,-128.77 1077.1,-125.27 1077.1,-132.27\"/>\n",
              "<text text-anchor=\"middle\" x=\"1052.23\" y=\"-132.57\" font-family=\"Times,serif\" font-size=\"14.00\">B</text>\n",
              "</g>\n",
              "<!-- 9 -->\n",
              "<g id=\"node9\" class=\"node\">\n",
              "<title>9</title>\n",
              "<ellipse fill=\"none\" stroke=\"black\" cx=\"936.6\" cy=\"-36.77\" rx=\"81.13\" ry=\"36.54\"/>\n",
              "<polygon fill=\"none\" stroke=\"black\" points=\"888.6,-36.77 888.6,-57.77 936.6,-57.77 936.6,-36.77 888.6,-36.77\"/>\n",
              "<text text-anchor=\"start\" x=\"891.6\" y=\"-44.57\" font-family=\"Times,serif\" font-weight=\"bold\" font-size=\"14.00\">pais</text>\n",
              "<polygon fill=\"none\" stroke=\"black\" points=\"936.6,-36.77 936.6,-57.77 985.6,-57.77 985.6,-36.77 936.6,-36.77\"/>\n",
              "<text text-anchor=\"start\" x=\"939.6\" y=\"-43.57\" font-family=\"Times,serif\" font-size=\"14.00\">exact: 4</text>\n",
              "<polygon fill=\"none\" stroke=\"black\" points=\"888.6,-15.77 888.6,-36.77 936.6,-36.77 936.6,-15.77 888.6,-15.77\"/>\n",
              "<text text-anchor=\"start\" x=\"891.6\" y=\"-22.57\" font-family=\"Bukyvede\" font-size=\"14.00\">pais </text>\n",
              "<polygon fill=\"none\" stroke=\"black\" points=\"936.6,-15.77 936.6,-36.77 985.6,-36.77 985.6,-15.77 936.6,-15.77\"/>\n",
              "<text text-anchor=\"start\" x=\"939.6\" y=\"-22.57\" font-family=\"Times,serif\" font-size=\"14.00\">C</text>\n",
              "<polygon fill=\"none\" stroke=\"black\" points=\"887.1,-14.77 887.1,-58.77 986.1,-58.77 986.1,-14.77 887.1,-14.77\"/>\n",
              "</g>\n",
              "<!-- 8&#45;&gt;9 -->\n",
              "<g id=\"edge9\" class=\"edge\">\n",
              "<title>8-&gt;9</title>\n",
              "<path fill=\"none\" stroke=\"black\" d=\"M798.24,-36.77C813.22,-36.77 829.29,-36.77 844.97,-36.77\"/>\n",
              "<polygon fill=\"black\" stroke=\"black\" points=\"845.2,-40.27 855.2,-36.77 845.2,-33.27 845.2,-40.27\"/>\n",
              "<text text-anchor=\"middle\" x=\"820.97\" y=\"-40.57\" font-family=\"Times,serif\" font-size=\"14.00\">C</text>\n",
              "</g>\n",
              "<!-- 10 -->\n",
              "<g id=\"node10\" class=\"node\">\n",
              "<title>10</title>\n",
              "<ellipse fill=\"none\" stroke=\"black\" cx=\"1174.23\" cy=\"-36.77\" rx=\"98.99\" ry=\"36.54\"/>\n",
              "<polygon fill=\"none\" stroke=\"black\" points=\"1113.23,-36.77 1113.23,-57.77 1186.23,-57.77 1186.23,-36.77 1113.23,-36.77\"/>\n",
              "<text text-anchor=\"start\" x=\"1116.23\" y=\"-44.57\" font-family=\"Times,serif\" font-weight=\"bold\" font-size=\"14.00\">portugal</text>\n",
              "<polygon fill=\"none\" stroke=\"black\" points=\"1186.23,-36.77 1186.23,-57.77 1235.23,-57.77 1235.23,-36.77 1186.23,-36.77\"/>\n",
              "<text text-anchor=\"start\" x=\"1189.23\" y=\"-43.57\" font-family=\"Times,serif\" font-size=\"14.00\">exact: 5</text>\n",
              "<polygon fill=\"none\" stroke=\"black\" points=\"1113.23,-15.77 1113.23,-36.77 1186.23,-36.77 1186.23,-15.77 1113.23,-15.77\"/>\n",
              "<text text-anchor=\"start\" x=\"1116.23\" y=\"-22.57\" font-family=\"Bukyvede\" font-size=\"14.00\">portugal</text>\n",
              "<polygon fill=\"none\" stroke=\"black\" points=\"1186.23,-15.77 1186.23,-36.77 1235.23,-36.77 1235.23,-15.77 1186.23,-15.77\"/>\n",
              "<text text-anchor=\"start\" x=\"1189.23\" y=\"-22.57\" font-family=\"Times,serif\" font-size=\"14.00\">C</text>\n",
              "<polygon fill=\"none\" stroke=\"black\" points=\"1112.23,-14.77 1112.23,-58.77 1236.23,-58.77 1236.23,-14.77 1112.23,-14.77\"/>\n",
              "</g>\n",
              "<!-- 9&#45;&gt;10 -->\n",
              "<g id=\"edge10\" class=\"edge\">\n",
              "<title>9-&gt;10</title>\n",
              "<path fill=\"none\" stroke=\"black\" d=\"M1018.03,-36.77C1033.12,-36.77 1049.13,-36.77 1064.9,-36.77\"/>\n",
              "<polygon fill=\"black\" stroke=\"black\" points=\"1065.23,-40.27 1075.23,-36.77 1065.23,-33.27 1065.23,-40.27\"/>\n",
              "<text text-anchor=\"middle\" x=\"1052.23\" y=\"-40.57\" font-family=\"Times,serif\" font-size=\"14.00\">C</text>\n",
              "</g>\n",
              "<!-- 10&#45;&gt;2 -->\n",
              "<g id=\"edge11\" class=\"edge\">\n",
              "<title>10-&gt;2</title>\n",
              "<path fill=\"none\" stroke=\"black\" d=\"M1261.43,-54.23C1286.03,-59.21 1312.46,-64.56 1335.7,-69.26\"/>\n",
              "<polygon fill=\"black\" stroke=\"black\" points=\"1335.3,-72.75 1345.8,-71.31 1336.69,-65.89 1335.3,-72.75\"/>\n",
              "<text text-anchor=\"middle\" x=\"1304.72\" y=\"-69.57\" font-family=\"Times,serif\" font-size=\"14.00\">C</text>\n",
              "</g>\n",
              "</g>\n",
              "</svg>"
            ],
            "text/plain": [
              "<IPython.core.display.SVG object>"
            ]
          },
          "metadata": {},
          "output_type": "display_data"
        }
      ],
      "source": [
        "graph = collate( collation, output=\"svg\", near_match=True, segmentation=False  )"
      ]
    },
    {
      "cell_type": "code",
      "execution_count": null,
      "metadata": {
        "colab": {
          "base_uri": "https://localhost:8080/",
          "height": 196
        },
        "id": "B-xF71zvXhfL",
        "outputId": "d82107e9-60f2-4327-c28a-77ac3929a816"
      },
      "outputs": [
        {
          "data": {
            "image/svg+xml": [
              "<svg xmlns=\"http://www.w3.org/2000/svg\" xmlns:xlink=\"http://www.w3.org/1999/xlink\" width=\"791pt\" height=\"131pt\" viewBox=\"0.00 0.00 790.98 131.00\">\n",
              "<g id=\"graph0\" class=\"graph\" transform=\"scale(1 1) rotate(0) translate(4 127)\">\n",
              "<title>%3</title>\n",
              "<polygon fill=\"white\" stroke=\"transparent\" points=\"-4,4 -4,-127 786.98,-127 786.98,4 -4,4\"/>\n",
              "<!-- 1 -->\n",
              "<g id=\"node1\" class=\"node\">\n",
              "<title>1</title>\n",
              "<ellipse fill=\"none\" stroke=\"black\" cx=\"27\" cy=\"-72\" rx=\"27\" ry=\"18\"/>\n",
              "<text text-anchor=\"middle\" x=\"27\" y=\"-68.3\" font-family=\"Times,serif\" font-size=\"14.00\">start</text>\n",
              "</g>\n",
              "<!-- 3 -->\n",
              "<g id=\"node3\" class=\"node\">\n",
              "<title>3</title>\n",
              "<ellipse fill=\"none\" stroke=\"black\" cx=\"160\" cy=\"-72\" rx=\"27\" ry=\"18\"/>\n",
              "<text text-anchor=\"middle\" x=\"160\" y=\"-68.3\" font-family=\"Times,serif\" font-size=\"14.00\">me</text>\n",
              "</g>\n",
              "<!-- 1&#45;&gt;3 -->\n",
              "<g id=\"edge1\" class=\"edge\">\n",
              "<title>1-&gt;3</title>\n",
              "<path fill=\"none\" stroke=\"black\" d=\"M54.19,-72C73.83,-72 100.94,-72 122.67,-72\"/>\n",
              "<polygon fill=\"black\" stroke=\"black\" points=\"122.85,-75.5 132.85,-72 122.85,-68.5 122.85,-75.5\"/>\n",
              "<text text-anchor=\"middle\" x=\"93.5\" y=\"-75.8\" font-family=\"Times,serif\" font-size=\"14.00\">A, B, C</text>\n",
              "</g>\n",
              "<!-- 2 -->\n",
              "<g id=\"node2\" class=\"node\">\n",
              "<title>2</title>\n",
              "<ellipse fill=\"none\" stroke=\"black\" cx=\"755.98\" cy=\"-45\" rx=\"27\" ry=\"18\"/>\n",
              "<text text-anchor=\"middle\" x=\"755.98\" y=\"-41.3\" font-family=\"Times,serif\" font-size=\"14.00\">end</text>\n",
              "</g>\n",
              "<!-- 4 -->\n",
              "<g id=\"node4\" class=\"node\">\n",
              "<title>4</title>\n",
              "<ellipse fill=\"none\" stroke=\"black\" cx=\"295.25\" cy=\"-72\" rx=\"29.5\" ry=\"18\"/>\n",
              "<text text-anchor=\"middle\" x=\"295.25\" y=\"-68.3\" font-family=\"Times,serif\" font-size=\"14.00\">gusta</text>\n",
              "</g>\n",
              "<!-- 3&#45;&gt;4 -->\n",
              "<g id=\"edge2\" class=\"edge\">\n",
              "<title>3-&gt;4</title>\n",
              "<path fill=\"none\" stroke=\"black\" d=\"M187.01,-72C206.49,-72 233.47,-72 255.49,-72\"/>\n",
              "<polygon fill=\"black\" stroke=\"black\" points=\"255.53,-75.5 265.53,-72 255.53,-68.5 255.53,-75.5\"/>\n",
              "<text text-anchor=\"middle\" x=\"226.5\" y=\"-75.8\" font-family=\"Times,serif\" font-size=\"14.00\">A, B, C</text>\n",
              "</g>\n",
              "<!-- 5 -->\n",
              "<g id=\"node5\" class=\"node\">\n",
              "<title>5</title>\n",
              "<ellipse fill=\"none\" stroke=\"black\" cx=\"625.69\" cy=\"-72\" rx=\"31.7\" ry=\"18\"/>\n",
              "<text text-anchor=\"middle\" x=\"625.69\" y=\"-68.3\" font-family=\"Times,serif\" font-size=\"14.00\">lisboa</text>\n",
              "</g>\n",
              "<!-- 4&#45;&gt;5 -->\n",
              "<g id=\"edge3\" class=\"edge\">\n",
              "<title>4-&gt;5</title>\n",
              "<path fill=\"none\" stroke=\"black\" d=\"M318.69,-82.96C333.09,-89.28 352.43,-96.47 370.49,-99 457.23,-111.15 483.7,-116.82 567.39,-91 574.12,-88.92 581.26,-86.63 588.14,-84.37\"/>\n",
              "<polygon fill=\"black\" stroke=\"black\" points=\"589.55,-87.59 597.94,-81.13 587.35,-80.95 589.55,-87.59\"/>\n",
              "<text text-anchor=\"middle\" x=\"447.49\" y=\"-111.8\" font-family=\"Times,serif\" font-size=\"14.00\">A</text>\n",
              "</g>\n",
              "<!-- 6 -->\n",
              "<g id=\"node6\" class=\"node\">\n",
              "<title>6</title>\n",
              "<ellipse fill=\"none\" stroke=\"black\" cx=\"397.49\" cy=\"-72\" rx=\"27\" ry=\"18\"/>\n",
              "<text text-anchor=\"middle\" x=\"397.49\" y=\"-68.3\" font-family=\"Times,serif\" font-size=\"14.00\">la</text>\n",
              "</g>\n",
              "<!-- 4&#45;&gt;6 -->\n",
              "<g id=\"edge4\" class=\"edge\">\n",
              "<title>4-&gt;6</title>\n",
              "<path fill=\"none\" stroke=\"black\" d=\"M324.71,-72C335.7,-72 348.41,-72 360.05,-72\"/>\n",
              "<polygon fill=\"black\" stroke=\"black\" points=\"360.37,-75.5 370.37,-72 360.37,-68.5 360.37,-75.5\"/>\n",
              "<text text-anchor=\"middle\" x=\"347.49\" y=\"-75.8\" font-family=\"Times,serif\" font-size=\"14.00\">B</text>\n",
              "</g>\n",
              "<!-- 8 -->\n",
              "<g id=\"node8\" class=\"node\">\n",
              "<title>8</title>\n",
              "<ellipse fill=\"none\" stroke=\"black\" cx=\"397.49\" cy=\"-18\" rx=\"27\" ry=\"18\"/>\n",
              "<text text-anchor=\"middle\" x=\"397.49\" y=\"-14.3\" font-family=\"Times,serif\" font-size=\"14.00\">el</text>\n",
              "</g>\n",
              "<!-- 4&#45;&gt;8 -->\n",
              "<g id=\"edge5\" class=\"edge\">\n",
              "<title>4-&gt;8</title>\n",
              "<path fill=\"none\" stroke=\"black\" d=\"M318,-60.28C332.34,-52.56 351.31,-42.34 367.01,-33.88\"/>\n",
              "<polygon fill=\"black\" stroke=\"black\" points=\"368.67,-36.96 375.81,-29.14 365.35,-30.8 368.67,-36.96\"/>\n",
              "<text text-anchor=\"middle\" x=\"347.49\" y=\"-49.8\" font-family=\"Times,serif\" font-size=\"14.00\">C</text>\n",
              "</g>\n",
              "<!-- 5&#45;&gt;2 -->\n",
              "<g id=\"edge6\" class=\"edge\">\n",
              "<title>5-&gt;2</title>\n",
              "<path fill=\"none\" stroke=\"black\" d=\"M655.8,-65.87C674.81,-61.87 699.75,-56.62 719.86,-52.39\"/>\n",
              "<polygon fill=\"black\" stroke=\"black\" points=\"720.82,-55.77 729.88,-50.28 719.37,-48.92 720.82,-55.77\"/>\n",
              "<text text-anchor=\"middle\" x=\"697.48\" y=\"-62.8\" font-family=\"Times,serif\" font-size=\"14.00\">A, B</text>\n",
              "</g>\n",
              "<!-- 7 -->\n",
              "<g id=\"node7\" class=\"node\">\n",
              "<title>7</title>\n",
              "<ellipse fill=\"none\" stroke=\"black\" cx=\"504.94\" cy=\"-72\" rx=\"34.39\" ry=\"18\"/>\n",
              "<text text-anchor=\"middle\" x=\"504.94\" y=\"-68.3\" font-family=\"Times,serif\" font-size=\"14.00\">ciudad</text>\n",
              "</g>\n",
              "<!-- 6&#45;&gt;7 -->\n",
              "<g id=\"edge7\" class=\"edge\">\n",
              "<title>6-&gt;7</title>\n",
              "<path fill=\"none\" stroke=\"black\" d=\"M424.56,-72C435.22,-72 447.85,-72 459.87,-72\"/>\n",
              "<polygon fill=\"black\" stroke=\"black\" points=\"460.21,-75.5 470.21,-72 460.21,-68.5 460.21,-75.5\"/>\n",
              "<text text-anchor=\"middle\" x=\"447.49\" y=\"-75.8\" font-family=\"Times,serif\" font-size=\"14.00\">B</text>\n",
              "</g>\n",
              "<!-- 7&#45;&gt;5 -->\n",
              "<g id=\"edge8\" class=\"edge\">\n",
              "<title>7-&gt;5</title>\n",
              "<path fill=\"none\" stroke=\"black\" d=\"M539.65,-72C553.33,-72 569.27,-72 583.62,-72\"/>\n",
              "<polygon fill=\"black\" stroke=\"black\" points=\"583.74,-75.5 593.74,-72 583.74,-68.5 583.74,-75.5\"/>\n",
              "<text text-anchor=\"middle\" x=\"562.39\" y=\"-75.8\" font-family=\"Times,serif\" font-size=\"14.00\">B</text>\n",
              "</g>\n",
              "<!-- 9 -->\n",
              "<g id=\"node9\" class=\"node\">\n",
              "<title>9</title>\n",
              "<ellipse fill=\"none\" stroke=\"black\" cx=\"504.94\" cy=\"-18\" rx=\"27\" ry=\"18\"/>\n",
              "<text text-anchor=\"middle\" x=\"504.94\" y=\"-14.3\" font-family=\"Times,serif\" font-size=\"14.00\">pais</text>\n",
              "</g>\n",
              "<!-- 8&#45;&gt;9 -->\n",
              "<g id=\"edge9\" class=\"edge\">\n",
              "<title>8-&gt;9</title>\n",
              "<path fill=\"none\" stroke=\"black\" d=\"M424.56,-18C437.49,-18 453.32,-18 467.43,-18\"/>\n",
              "<polygon fill=\"black\" stroke=\"black\" points=\"467.81,-21.5 477.81,-18 467.81,-14.5 467.81,-21.5\"/>\n",
              "<text text-anchor=\"middle\" x=\"447.49\" y=\"-21.8\" font-family=\"Times,serif\" font-size=\"14.00\">C</text>\n",
              "</g>\n",
              "<!-- 10 -->\n",
              "<g id=\"node10\" class=\"node\">\n",
              "<title>10</title>\n",
              "<ellipse fill=\"none\" stroke=\"black\" cx=\"625.69\" cy=\"-18\" rx=\"40.09\" ry=\"18\"/>\n",
              "<text text-anchor=\"middle\" x=\"625.69\" y=\"-14.3\" font-family=\"Times,serif\" font-size=\"14.00\">portugal</text>\n",
              "</g>\n",
              "<!-- 9&#45;&gt;10 -->\n",
              "<g id=\"edge10\" class=\"edge\">\n",
              "<title>9-&gt;10</title>\n",
              "<path fill=\"none\" stroke=\"black\" d=\"M532,-18C544.65,-18 560.28,-18 575.07,-18\"/>\n",
              "<polygon fill=\"black\" stroke=\"black\" points=\"575.14,-21.5 585.14,-18 575.14,-14.5 575.14,-21.5\"/>\n",
              "<text text-anchor=\"middle\" x=\"562.39\" y=\"-21.8\" font-family=\"Times,serif\" font-size=\"14.00\">C</text>\n",
              "</g>\n",
              "<!-- 10&#45;&gt;2 -->\n",
              "<g id=\"edge11\" class=\"edge\">\n",
              "<title>10-&gt;2</title>\n",
              "<path fill=\"none\" stroke=\"black\" d=\"M662.82,-25.09C677.75,-28.07 695.22,-31.62 710.98,-35 714.02,-35.65 717.18,-36.34 720.34,-37.04\"/>\n",
              "<polygon fill=\"black\" stroke=\"black\" points=\"719.81,-40.51 730.34,-39.29 721.35,-33.68 719.81,-40.51\"/>\n",
              "<text text-anchor=\"middle\" x=\"697.48\" y=\"-38.8\" font-family=\"Times,serif\" font-size=\"14.00\">C</text>\n",
              "</g>\n",
              "</g>\n",
              "</svg>"
            ],
            "text/plain": [
              "<IPython.core.display.SVG object>"
            ]
          },
          "metadata": {},
          "output_type": "display_data"
        }
      ],
      "source": [
        "graph = collate( collation, output=\"svg_simple\", near_match=True, segmentation=False  )"
      ]
    }
  ],
  "metadata": {
    "colab": {
      "provenance": []
    },
    "kernelspec": {
      "display_name": "Python 3",
      "name": "python3"
    },
    "language_info": {
      "name": "python"
    }
  },
  "nbformat": 4,
  "nbformat_minor": 0
}
